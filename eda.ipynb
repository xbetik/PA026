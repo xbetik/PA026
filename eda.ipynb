{
 "cells": [
  {
   "cell_type": "code",
   "execution_count": 31,
   "id": "a418b0da",
   "metadata": {},
   "outputs": [],
   "source": [
    "import numpy as np\n",
    "import pandas as pd\n",
    "import os\n",
    "import xmltodict\n",
    "from collections import Counter\n",
    "import matplotlib.pyplot as plt"
   ]
  },
  {
   "cell_type": "code",
   "execution_count": 29,
   "id": "13a356e9",
   "metadata": {},
   "outputs": [
    {
     "name": "stdout",
     "output_type": "stream",
     "text": [
      "dict_keys(['with_mask', 'without_mask', 'mask_weared_incorrect']) \n",
      " dict_values([3232, 717, 123])\n"
     ]
    }
   ],
   "source": [
    "img_names, xml_names = GetFileNames()\n",
    "listing = GetListings(img_names)\n",
    "Items = Counter(listing).keys()\n",
    "values = Counter(listing).values()\n",
    "print(Items,'\\n',values)"
   ]
  },
  {
   "cell_type": "code",
   "execution_count": 32,
   "id": "7cee0902",
   "metadata": {},
   "outputs": [
    {
     "data": {
      "image/png": "[encoded data removed]",
      "text/plain": [
       "<Figure size 432x288 with 1 Axes>"
      ]
     },
     "metadata": {
      "needs_background": "light"
     },
     "output_type": "display_data"
    }
   ],
   "source": [
    "ax2 = plt.bar(Items, list(values), width = 0.4)"
   ]
  },
  {
   "cell_type": "code",
   "execution_count": 48,
   "id": "98b8dae3",
   "metadata": {},
   "outputs": [
    {
     "name": "stdout",
     "output_type": "stream",
     "text": [
      "With mask:79.3713163064833 %\n",
      "Without mask:17.608055009823183 %\n",
      "Mask weared incorrectly:3.020628683693517 %\n"
     ]
    }
   ],
   "source": [
    "total = 3232+717+123\n",
    "with_mask_per = (list(values)[0] / total) * 100\n",
    "without_mask_per = (list(values)[1] / total) * 100\n",
    "mask_incorrect_per = (list(values)[2] / total) * 100\n",
    "print(\"With mask:\" + str(with_mask_per) + \" %\")\n",
    "print(\"Without mask:\" + str(without_mask_per) + \" %\")\n",
    "print(\"Mask weared incorrectly:\" + str(mask_incorrect_per) + \" %\")"
   ]
  },
  {
   "cell_type": "markdown",
   "id": "8d07295f",
   "metadata": {},
   "source": [
    "# Functions"
   ]
  },
  {
   "cell_type": "code",
   "execution_count": 20,
   "id": "888728ef",
   "metadata": {},
   "outputs": [],
   "source": [
    "def GetListings(img_names):\n",
    "    path_annotations=\"data/annotations/\"\n",
    "    listing=[]\n",
    "    for i in img_names[:]:\n",
    "        with open(path_annotations+i[:-4]+\".xml\") as fd:\n",
    "            doc=xmltodict.parse(fd.read())\n",
    "        temp=doc[\"annotation\"][\"object\"]\n",
    "        if type(temp)==list:\n",
    "            for i in range(len(temp)):\n",
    "                listing.append(temp[i][\"name\"])\n",
    "        else:\n",
    "            listing.append(temp[\"name\"])\n",
    "    return listing\n",
    "\n",
    "def GetFileNames():\n",
    "    img_names=[] \n",
    "    xml_names=[] \n",
    "    for dirname, _, filenames in os.walk('data/'):\n",
    "        for filename in filenames:\n",
    "            if os.path.join(dirname, filename)[-3:]!=\"xml\":\n",
    "                img_names.append(filename)\n",
    "            else:\n",
    "                xml_names.append(filename)\n",
    "    return img_names, xml_names"
   ]
  }
 ],
 "metadata": {
  "kernelspec": {
   "display_name": "Python 3",
   "language": "python",
   "name": "python3"
  },
  "language_info": {
   "codemirror_mode": {
    "name": "ipython",
    "version": 3
   },
   "file_extension": ".py",
   "mimetype": "text/x-python",
   "name": "python",
   "nbconvert_exporter": "python",
   "pygments_lexer": "ipython3",
   "version": "3.9.5"
  }
 },
 "nbformat": 4,
 "nbformat_minor": 5
}
